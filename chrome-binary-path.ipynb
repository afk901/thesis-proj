{
 "cells": [
  {
   "cell_type": "markdown",
   "metadata": {},
   "source": [
    "[Set chrome browser binary through chromedriver in Python - stack overflow](https://stackoverflow.com/questions/45500606/set-chrome-browser-binary-through-chromedriver-in-python)"
   ]
  },
  {
   "cell_type": "markdown",
   "metadata": {},
   "source": [
    "## Using Options"
   ]
  },
  {
   "cell_type": "code",
   "execution_count": null,
   "metadata": {},
   "outputs": [],
   "source": [
    "from selenium import webdriver\n",
    "from selenium.webdriver.chrome.options import Options\n",
    "options = Options()\n",
    "options.binary_location = \"C:/Program Files (x86)/Google/Chrome/Application/chrome.exe\"\n",
    "driver = webdriver.Chrome(chrome_options=options, executable_path=\"C:/Utility/BrowserDrivers/chromedriver.exe\", )\n",
    "driver.get('http://google.com/')"
   ]
  },
  {
   "cell_type": "markdown",
   "metadata": {},
   "source": [
    "## Using DesiredCapabilities"
   ]
  },
  {
   "cell_type": "code",
   "execution_count": null,
   "metadata": {},
   "outputs": [],
   "source": [
    "from selenium import webdriver\n",
    "from selenium.webdriver.common.desired_capabilities import DesiredCapabilities\n",
    "cap = DesiredCapabilities.CHROME\n",
    "cap = {'binary_location': \"C:/Program Files (x86)/Google/Chrome/Application/chrome.exe\"}\n",
    "driver = webdriver.Chrome(desired_capabilities=cap, executable_path=\"C:\\\\Utility\\\\BrowserDrivers\\\\chromedriver.exe\")\n",
    "driver.get('http://google.com/')"
   ]
  },
  {
   "cell_type": "markdown",
   "metadata": {},
   "source": [
    "## Using Chrome as a Service"
   ]
  },
  {
   "cell_type": "code",
   "execution_count": null,
   "metadata": {},
   "outputs": [],
   "source": [
    "from selenium import webdriver\n",
    "import selenium.webdriver.chrome.service as service\n",
    "service = service.Service('C:\\\\Utility\\\\BrowserDrivers\\\\chromedriver.exe')\n",
    "service.start()\n",
    "capabilities = {'chrome.binary': \"C:/Program Files (x86)/Google/Chrome/Application/chrome.exe\"}\n",
    "driver = webdriver.Remote(service.service_url, capabilities)\n",
    "driver.get('http://www.google.com')"
   ]
  }
 ],
 "metadata": {
  "kernelspec": {
   "display_name": "Python 3",
   "language": "python",
   "name": "python3"
  },
  "language_info": {
   "name": "python",
   "version": "3.11.4"
  },
  "orig_nbformat": 4
 },
 "nbformat": 4,
 "nbformat_minor": 2
}
